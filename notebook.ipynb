{
 "cells": [
  {
   "cell_type": "code",
   "execution_count": 5,
   "metadata": {},
   "outputs": [
    {
     "name": "stdout",
     "output_type": "stream",
     "text": [
      "68802\n",
      "251\n",
      "205370\n"
     ]
    }
   ],
   "source": [
    "file1 = open('data/day1.txt', 'r')\n",
    "Lines = file1.readlines()\n",
    "\n",
    "max_cal = 0\n",
    "temp_cal = 0\n",
    "for Line in Lines:\n",
    "    \n",
    "    if Line.strip():\n",
    "        temp_cal += int(Line)\n",
    "        if temp_cal >= max_cal:\n",
    "            max_cal = temp_cal\n",
    "    else:\n",
    "        temp_cal = 0\n",
    "\n",
    "print(max_cal)\n",
    "\n",
    "\n",
    "elf_cal = []\n",
    "temp_cal = 0\n",
    "for Line in Lines:\n",
    "    \n",
    "    if Line.strip():\n",
    "        temp_cal += int(Line)\n",
    "    else:\n",
    "        elf_cal.append(temp_cal)\n",
    "        temp_cal = 0\n",
    "\n",
    "elf_cal.sort(reverse=True)\n",
    "print(sum(elf_cal[:3]))\n"
   ]
  }
 ],
 "metadata": {
  "kernelspec": {
   "display_name": "Python 3.9.13 ('.venv': venv)",
   "language": "python",
   "name": "python3"
  },
  "language_info": {
   "codemirror_mode": {
    "name": "ipython",
    "version": 3
   },
   "file_extension": ".py",
   "mimetype": "text/x-python",
   "name": "python",
   "nbconvert_exporter": "python",
   "pygments_lexer": "ipython3",
   "version": "3.9.13"
  },
  "orig_nbformat": 4,
  "vscode": {
   "interpreter": {
    "hash": "a572b86d844971c9ee43c6ec3865e5474c9f20c4fd8790b4bf3e1cd2dc3dabb3"
   }
  }
 },
 "nbformat": 4,
 "nbformat_minor": 2
}
