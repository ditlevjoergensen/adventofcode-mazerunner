{
 "cells": [
  {
   "cell_type": "code",
   "execution_count": 5,
   "metadata": {},
   "outputs": [
    {
     "name": "stdout",
     "output_type": "stream",
     "text": [
      "68802\n",
      "251\n",
      "205370\n"
     ]
    }
   ],
   "source": [
    "# day 1\n",
    "file1 = open('data/day1.txt', 'r')\n",
    "Lines = file1.readlines()\n",
    "\n",
    "max_cal = 0\n",
    "temp_cal = 0\n",
    "for Line in Lines:\n",
    "    \n",
    "    if Line.strip():\n",
    "        temp_cal += int(Line)\n",
    "        if temp_cal >= max_cal:\n",
    "            max_cal = temp_cal\n",
    "    else:\n",
    "        temp_cal = 0\n",
    "\n",
    "print(max_cal)\n",
    "\n",
    "\n",
    "elf_cal = []\n",
    "temp_cal = 0\n",
    "for Line in Lines:\n",
    "    \n",
    "    if Line.strip():\n",
    "        temp_cal += int(Line)\n",
    "    else:\n",
    "        elf_cal.append(temp_cal)\n",
    "        temp_cal = 0\n",
    "\n",
    "elf_cal.sort(reverse=True)\n",
    "print(sum(elf_cal[:3]))\n"
   ]
  },
  {
   "cell_type": "code",
   "execution_count": 25,
   "metadata": {},
   "outputs": [
    {
     "name": "stdout",
     "output_type": "stream",
     "text": [
      "11603\n",
      "12725\n"
     ]
    }
   ],
   "source": [
    "# day 2\n",
    "# rock = 1 = A = X\n",
    "# Paper = 2 = B = Y\n",
    "# Scissors = 3 = C = Z\n",
    "\n",
    "file1 = open('data/day2.txt', 'r')\n",
    "Lines = file1.readlines()\n",
    "tot_point = 0\n",
    "hash_table = {'A X':4, 'A Y':8,'A Z':3, \n",
    "              'B X':1, 'B Y':5,'B Z':9,\n",
    "              'C X':7, 'C Y':2,'C Z':6}\n",
    "\n",
    "for Line in Lines:\n",
    "    Line = Line.strip()\n",
    "    tot_point += hash_table[Line]\n",
    "    \n",
    "\n",
    "print(tot_point)\n",
    "\n",
    "\n",
    "# rock = 1 = A \n",
    "# Paper = 2 = B \n",
    "# Scissors = 3 = C \n",
    "# X = Lose\n",
    "# Y = Draw\n",
    "# Z = Win\n",
    "file1 = open('data/day2.txt', 'r')\n",
    "Lines = file1.readlines()\n",
    "tot_point = 0\n",
    "\n",
    "hash_table_win = {'A':2, 'B':3,'C':1}\n",
    "hash_table_draw = {'A':1, 'B':2,'C':3}\n",
    "hash_table_lose = {'A':3, 'B':1,'C':2}\n",
    "\n",
    "for Line in Lines:\n",
    "    Line = Line.strip()\n",
    "    Line = Line.split(\" \")\n",
    "    #print(Line)\n",
    "    if Line[1] == 'X':\n",
    "        tot_point += hash_table_lose[Line[0]]\n",
    "\n",
    "    if Line[1] == 'Y':\n",
    "        tot_point += hash_table_draw[Line[0]] + 3\n",
    "\n",
    "    if Line[1] == 'Z':\n",
    "        tot_point += hash_table_win[Line[0]] + 6\n",
    "\n",
    "print(tot_point)"
   ]
  }
 ],
 "metadata": {
  "kernelspec": {
   "display_name": "Python 3.9.13 ('.venv': venv)",
   "language": "python",
   "name": "python3"
  },
  "language_info": {
   "codemirror_mode": {
    "name": "ipython",
    "version": 3
   },
   "file_extension": ".py",
   "mimetype": "text/x-python",
   "name": "python",
   "nbconvert_exporter": "python",
   "pygments_lexer": "ipython3",
   "version": "3.9.13"
  },
  "orig_nbformat": 4,
  "vscode": {
   "interpreter": {
    "hash": "a572b86d844971c9ee43c6ec3865e5474c9f20c4fd8790b4bf3e1cd2dc3dabb3"
   }
  }
 },
 "nbformat": 4,
 "nbformat_minor": 2
}
