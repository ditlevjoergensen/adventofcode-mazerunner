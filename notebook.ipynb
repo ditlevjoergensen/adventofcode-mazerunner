{
 "cells": [
  {
   "cell_type": "code",
   "execution_count": null,
   "metadata": {},
   "outputs": [
    {
     "name": "stdout",
     "output_type": "stream",
     "text": [
      "68802\n",
      "251\n",
      "205370\n"
     ]
    }
   ],
   "source": [
    "# day 1\n",
    "file1 = open('data/day1.txt', 'r')\n",
    "Lines = file1.readlines()\n",
    "\n",
    "max_cal = 0\n",
    "temp_cal = 0\n",
    "for Line in Lines:\n",
    "    \n",
    "    if Line.strip():\n",
    "        temp_cal += int(Line)\n",
    "        if temp_cal >= max_cal:\n",
    "            max_cal = temp_cal\n",
    "    else:\n",
    "        temp_cal = 0\n",
    "\n",
    "print(max_cal)\n",
    "\n",
    "\n",
    "elf_cal = []\n",
    "temp_cal = 0\n",
    "for Line in Lines:\n",
    "    \n",
    "    if Line.strip():\n",
    "        temp_cal += int(Line)\n",
    "    else:\n",
    "        elf_cal.append(temp_cal)\n",
    "        temp_cal = 0\n",
    "\n",
    "elf_cal.sort(reverse=True)\n",
    "print(sum(elf_cal[:3]))\n"
   ]
  },
  {
   "cell_type": "code",
   "execution_count": null,
   "metadata": {},
   "outputs": [
    {
     "name": "stdout",
     "output_type": "stream",
     "text": [
      "11603\n",
      "12725\n"
     ]
    }
   ],
   "source": [
    "# day 2\n",
    "# rock = 1 = A = X\n",
    "# Paper = 2 = B = Y\n",
    "# Scissors = 3 = C = Z\n",
    "\n",
    "file1 = open('data/day2.txt', 'r')\n",
    "Lines = file1.readlines()\n",
    "tot_point = 0\n",
    "hash_table = {'A X':4, 'A Y':8,'A Z':3, \n",
    "              'B X':1, 'B Y':5,'B Z':9,\n",
    "              'C X':7, 'C Y':2,'C Z':6}\n",
    "\n",
    "for Line in Lines:\n",
    "    Line = Line.strip()\n",
    "    tot_point += hash_table[Line]\n",
    "    \n",
    "\n",
    "print(tot_point)\n",
    "\n",
    "\n",
    "# rock = 1 = A \n",
    "# Paper = 2 = B \n",
    "# Scissors = 3 = C \n",
    "# X = Lose\n",
    "# Y = Draw\n",
    "# Z = Win\n",
    "file1 = open('data/day2.txt', 'r')\n",
    "Lines = file1.readlines()\n",
    "tot_point = 0\n",
    "\n",
    "hash_table_win = {'A':2, 'B':3,'C':1}\n",
    "hash_table_draw = {'A':1, 'B':2,'C':3}\n",
    "hash_table_lose = {'A':3, 'B':1,'C':2}\n",
    "\n",
    "for Line in Lines:\n",
    "    Line = Line.strip()\n",
    "    Line = Line.split(\" \")\n",
    "    #print(Line)\n",
    "    if Line[1] == 'X':\n",
    "        tot_point += hash_table_lose[Line[0]]\n",
    "\n",
    "    if Line[1] == 'Y':\n",
    "        tot_point += hash_table_draw[Line[0]] + 3\n",
    "\n",
    "    if Line[1] == 'Z':\n",
    "        tot_point += hash_table_win[Line[0]] + 6\n",
    "\n",
    "print(tot_point)"
   ]
  },
  {
   "cell_type": "code",
   "execution_count": 2,
   "metadata": {},
   "outputs": [
    {
     "name": "stdout",
     "output_type": "stream",
     "text": [
      "7863\n"
     ]
    }
   ],
   "source": [
    "# Day 3\n",
    "file1 = open('data/day3.txt', 'r')\n",
    "lines = file1.readlines()\n",
    "chars = []\n",
    "for line in lines:\n",
    "    half = int(len(line)/2)\n",
    "    chars.append(list(set(line[half:]) & set(line[:half]))[0])\n",
    "\n",
    "numbers = 0\n",
    "check = []\n",
    "for char in chars:\n",
    "    if char == char.lower():\n",
    "        numbers += ord(char)-96\n",
    "        check.append(ord(char)-96)\n",
    "    else:\n",
    "        numbers += ord(char)-64+26\n",
    "        check.append(ord(char)-64+26)\n",
    "\n",
    "print(numbers)\n",
    "\n"
   ]
  },
  {
   "cell_type": "code",
   "execution_count": 14,
   "metadata": {},
   "outputs": [
    {
     "name": "stdout",
     "output_type": "stream",
     "text": [
      "462\n",
      "835\n"
     ]
    }
   ],
   "source": [
    "# Day 4\n",
    "file = open('data/day4.txt', 'r')\n",
    "lines = file.readlines()\n",
    "overlap_cnt = 0\n",
    "full_overlap_cnt = 0\n",
    "for line in lines:\n",
    "    # Extract the numbers from the file\n",
    "    line = line.strip()\n",
    "    elves_tasks = line.split(\",\")\n",
    "    numbers = []\n",
    "    for task in elves_tasks:\n",
    "        numbers.append(task.split(\"-\"))\n",
    "\n",
    "    # Fill out middle numbers\n",
    "    list1 = range(int(numbers[0][0]),int(numbers[0][1])+1)\n",
    "    list2 = range(int(numbers[1][0]),int(numbers[1][1])+1)\n",
    "\n",
    "    # Check if full overlap using issubset\n",
    "    if (set(list1).issubset(set(list2)) or set(list2).issubset(set(list1))):\n",
    "        full_overlap_cnt += 1\n",
    "\n",
    "    # Check if overlap using any\n",
    "    if any(item in list(set(list2)) for item in list(set(list1))) or any(item in list(set(list1)) for item in list(set(list2))):\n",
    "        overlap_cnt += 1\n",
    "\n",
    "print(full_overlap_cnt)\n",
    "print(overlap_cnt)\n",
    "\n"
   ]
  },
  {
   "cell_type": "code",
   "execution_count": 27,
   "metadata": {},
   "outputs": [
    {
     "name": "stdout",
     "output_type": "stream",
     "text": [
      "3452\n"
     ]
    }
   ],
   "source": [
    "#day 6\n",
    "\n",
    "# change \"+14\" to \"+4\" for part 1.\n",
    "file = open('data/day6.txt', 'r')\n",
    "lines = file.readlines()\n",
    "\n",
    "l = [char for char in lines[0]]\n",
    "idx = 0\n",
    "run = True\n",
    "while run:\n",
    "    if len(set(l[idx:idx+14])) == len(l[idx:idx+14]):\n",
    "        run = False\n",
    "    idx += 1\n",
    "print(idx+13)"
   ]
  }
 ],
 "metadata": {
  "kernelspec": {
   "display_name": "Python 3.9.13 ('.venv': venv)",
   "language": "python",
   "name": "python3"
  },
  "language_info": {
   "codemirror_mode": {
    "name": "ipython",
    "version": 3
   },
   "file_extension": ".py",
   "mimetype": "text/x-python",
   "name": "python",
   "nbconvert_exporter": "python",
   "pygments_lexer": "ipython3",
   "version": "3.9.13"
  },
  "orig_nbformat": 4,
  "vscode": {
   "interpreter": {
    "hash": "2b2a45359df4aecf4c09f27c97c8acf044a93047b9ed135a52f6c25a54f97aa6"
   }
  }
 },
 "nbformat": 4,
 "nbformat_minor": 2
}
